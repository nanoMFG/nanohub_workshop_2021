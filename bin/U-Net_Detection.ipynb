{
 "cells": [
  {
   "cell_type": "markdown",
   "metadata": {},
   "source": [
    "# Machine Learning for SEM Image Segmentation in Materials Science\n",
    "\n",
    "## *Using a U-Net model to segment microscopy images*\n",
    "\n",
    "In this tutorial will learn how to use a pre-trained U-Net model to segment a scanning electron microscopy image of graphene on a substrate.\n",
    "\n",
    "**Outline:**\n",
    "1. Import image and model\n",
    "2. Pre-process image\n",
    "3. Run the model\n",
    "\n",
    "**Get started:** Click \"Shift-Enter\" to run the code in each cell."
   ]
  },
  {
   "cell_type": "markdown",
   "metadata": {},
   "source": [
    "## <ins>Let's begin</ins>\n",
    "\n",
    "We will first import the relevant Python libraries."
   ]
  },
  {
   "cell_type": "code",
   "execution_count": null,
   "metadata": {},
   "outputs": [],
   "source": [
    "# import relevant libraries\n",
    "\n",
    "from keras.models import load_model\n",
    "from PIL import Image\n",
    "import numpy as np\n",
    "import matplotlib.pyplot as plt\n",
    "import cv2\n",
    "from hublib.ui import FileUpload, Download\n",
    "import shutil, os\n",
    "\n",
    "import warnings\n",
    "warnings.filterwarnings(action='ignore') # Remove warnings from output"
   ]
  },
  {
   "cell_type": "markdown",
   "metadata": {},
   "source": [
    "## <ins>Import the model and image</ins>\n",
    "\n",
    "Now, we load the model and import the image as a numpy n-dimensional array and display the image."
   ]
  },
  {
   "cell_type": "code",
   "execution_count": null,
   "metadata": {},
   "outputs": [],
   "source": [
    "modelp = '/data/tools/imagesegment/models/model_E99_0.974.hdf5'\n",
    "imagep = '../data/test_kmeans2.tif' #import pre-saved demo image"
   ]
  },
  {
   "cell_type": "markdown",
   "metadata": {},
   "source": [
    "### The following cell was added <u>after the workshop</u>. You can use it to upload your own microscopy image of graphene instead of using the pre-saved image\n",
    "\n",
    "_Note: Run this cell if you wish to upload your own image. If you wish to use the pre-saved demo image, you can continue without running this cell._\n",
    "\n",
    "Instructions to use this cell:\n",
    "1. Run the cell.\n",
    "2. Click on `Upload File` and upload an image of graphene.\n",
    "3. Run the next cell. You should be able to see your image"
   ]
  },
  {
   "cell_type": "code",
   "execution_count": null,
   "metadata": {},
   "outputs": [],
   "source": [
    "# callback function that picks the path of the uploaded image. It activates only if the image is successfully uploaded\n",
    "def mycb(w,fnames):\n",
    "    global imagep\n",
    "    imagep=fnames[0]\n",
    "    w.reset()\n",
    "\n",
    "f = FileUpload(\"Please upload your grayscale image of graphene\", \n",
    "               \"Please upload only standard image formats, such as PNG, JPG and TIF\",\n",
    "               cb=mycb,\n",
    "               maxsize=10000000)\n",
    "f # invoke the upload file button"
   ]
  },
  {
   "cell_type": "code",
   "execution_count": null,
   "metadata": {
    "scrolled": false
   },
   "outputs": [],
   "source": [
    "model = load_model(modelp) # load the model\n",
    "img_in = Image.open(imagep) # load the image\n",
    "\n",
    "plt.imshow(img_in, cmap='gray') # display the image to be segmented"
   ]
  },
  {
   "cell_type": "markdown",
   "metadata": {},
   "source": [
    "## <ins>Pre-process the image</ins>\n",
    "\n",
    "We make changes to the image to be able to run the method effectively. "
   ]
  },
  {
   "cell_type": "code",
   "execution_count": null,
   "metadata": {},
   "outputs": [],
   "source": [
    "orig_size = img_in.size # record the size of the original image\n",
    "img = img_in.resize((256,256)) # resize the image to match the input required for the model\n",
    "img = np.array(img, dtype='uint8') # change the encoding of the image\n",
    "img = img[np.newaxis,...,np.newaxis] # increase the dimensions of the image"
   ]
  },
  {
   "cell_type": "markdown",
   "metadata": {},
   "source": [
    "## <ins>Run the model</ins>\n",
    "\n",
    "We run the model and predict an output"
   ]
  },
  {
   "cell_type": "code",
   "execution_count": null,
   "metadata": {},
   "outputs": [],
   "source": [
    "pred = model.predict(img) # run the prediction. The output is an array where \"0\" means \"graphene\" and \"1\" means \"not graphene\".\n",
    "coverage = 1-np.mean(pred) # calculate the mean coverage\n",
    "\n",
    "pred = pred.astype('uint8') # change the encoding of the image\n",
    "\n",
    "print('coverage: ', coverage) # print the coverage"
   ]
  },
  {
   "cell_type": "code",
   "execution_count": null,
   "metadata": {
    "scrolled": false
   },
   "outputs": [],
   "source": [
    "new_pred = Image.fromarray((pred[0,...,0])*255).resize(orig_size) # create an Image object from the output array and reize to match the original image\n",
    "#plt.imshow(new_pred, cmap='gray') # display the output image\n",
    "\n",
    "fig, ax = plt.subplots(nrows=1,ncols=2, figsize=(12,6)) # create a figure with sub-plots\n",
    "ax[0].imshow(new_pred, cmap='gray'); # display the output image\n",
    "ax[1].imshow(img_in, cmap='gray') # display the original image\n",
    "\n",
    "# label the images\n",
    "ax[0].set_title('Output Image')\n",
    "ax[1].set_title('Input Image')"
   ]
  },
  {
   "cell_type": "markdown",
   "metadata": {},
   "source": [
    "### The following cell was added after the workshop. You can use it to download the segmented image of graphene\n",
    "\n",
    "Instructions to use this cell:\n",
    "1. Run the cell.\n",
    "2. Click on `Download Image` and save the segmented image to your local computer."
   ]
  },
  {
   "cell_type": "code",
   "execution_count": null,
   "metadata": {},
   "outputs": [],
   "source": [
    "# create a temporary directory to store the segmented image\n",
    "if not os.path.isdir('tmpdir'):\n",
    "    os.mkdir('tmpdir')\n",
    "    \n",
    "# save the segmented image\n",
    "img_out = new_pred.save(\"tmpdir/mask.png\")\n",
    "\n",
    "# create a download button to download the saved image\n",
    "d = Download('tmpdir/mask.png', label='Download Image', icon='download', tooltip='Download Segmented Image')   \n",
    "d # invoke the downlaod button"
   ]
  },
  {
   "cell_type": "code",
   "execution_count": null,
   "metadata": {},
   "outputs": [],
   "source": []
  }
 ],
 "metadata": {
  "kernelspec": {
   "display_name": "Python 3",
   "language": "python",
   "name": "python3"
  },
  "language_info": {
   "codemirror_mode": {
    "name": "ipython",
    "version": 3
   },
   "file_extension": ".py",
   "mimetype": "text/x-python",
   "name": "python",
   "nbconvert_exporter": "python",
   "pygments_lexer": "ipython3",
   "version": "3.7.7"
  }
 },
 "nbformat": 4,
 "nbformat_minor": 2
}
