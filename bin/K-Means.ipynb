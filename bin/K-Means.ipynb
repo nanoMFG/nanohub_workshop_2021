{
 "cells": [
  {
   "cell_type": "markdown",
   "metadata": {},
   "source": [
    "# Machine Learning for SEM Image Segmentation in Materials Science\n",
    "\n",
    "## *Using K-Means clustering to segment microscopy images*\n",
    "\n",
    "K-Means is a relatively quick and memory efficient method to cluster images. There is no need to select any template or threshold.\n",
    "\n",
    "In this tutorial will learn how to implement k-means clustering and use these to segment a scanning electron microscopy image of graphene on a substrate.\n",
    "\n",
    "**Outline:**\n",
    "1. Import image\n",
    "2. Define parameters\n",
    "3. Pre-process image\n",
    "4. Run the method\n",
    "5. Post-process the fitted data\n",
    "6. See effects of varying parameters\n",
    "\n",
    "**Get started:** Click \"Shift-Enter\" to run the code in each cell."
   ]
  },
  {
   "cell_type": "markdown",
   "metadata": {},
   "source": [
    "## <ins>Let's begin</ins>\n",
    "\n",
    "We will first import the [KMeans](https://scikit-learn.org/stable/modules/generated/sklearn.cluster.KMeans.html) and [MiniBatchKMeans](https://scikit-learn.org/stable/modules/generated/sklearn.cluster.MiniBatchKMeans.html) libraries, along with other relevant Python libraries."
   ]
  },
  {
   "cell_type": "code",
   "execution_count": null,
   "metadata": {},
   "outputs": [],
   "source": [
    "# import all relevant libraries\n",
    "import numpy as np\n",
    "from PIL import Image\n",
    "import matplotlib.pyplot as plt\n",
    "from skimage import util\n",
    "from sklearn.cluster import KMeans, MiniBatchKMeans"
   ]
  },
  {
   "cell_type": "markdown",
   "metadata": {},
   "source": [
    "## <ins>Import the image</ins>\n",
    "\n",
    "Now, we import the image as a numpy n-dimensional array and display the image and its resolution."
   ]
  },
  {
   "cell_type": "code",
   "execution_count": null,
   "metadata": {
    "scrolled": true
   },
   "outputs": [],
   "source": [
    "img_in = np.array(Image.open('../data/test_kmeans2.tif').convert('L')) # import the grayscale image as an array\n",
    "\n",
    "print(\"Resolution of Image: \", img_in.shape) # display the resolution of the image\n",
    "img_plot = plt.imshow(img_in, cmap='gray') # display the image"
   ]
  },
  {
   "cell_type": "markdown",
   "metadata": {},
   "source": [
    "## <ins>Define the parameters</ins>\n",
    "\n",
    "We define all the parameters that we can change."
   ]
  },
  {
   "cell_type": "code",
   "execution_count": null,
   "metadata": {},
   "outputs": [],
   "source": [
    "wsize = 30       # define the window size in pixels. This is the side length of the tiles.\n",
    "n_clusters = 5   # define the number of clusters. This is the \"K\" in \"K-Means\".\n",
    "stride = 3       # define the stride length. This is the number of pixels moved right or down between two tiles.\n",
    "seed = 197208    # define a random seed which will be used to determine the inital position of the centroids. This can be any random integer."
   ]
  },
  {
   "cell_type": "markdown",
   "metadata": {},
   "source": [
    "## <ins>Pre-process the image</ins>\n",
    "\n",
    "We make changes to the image to be able to run the method effectively. "
   ]
  },
  {
   "cell_type": "code",
   "execution_count": null,
   "metadata": {},
   "outputs": [],
   "source": [
    "# define a function to add a some padding to the image so that we can have an integer number of tiles. \n",
    "\n",
    "def pad(img,wsize,stride=1):\n",
    "    \n",
    "    \"\"\"Adds a few pixels to the image as padding so that we can have an integer number of tiles.\n",
    "    \n",
    "    Args:\n",
    "        img (np.array of shape(img.shape)): Array containg the image.\n",
    "        wsize (int): side length of tile.\n",
    "        stride (int): number of pixels between two tiles (default=1).\n",
    "        \n",
    "    Returns:\n",
    "        img (np.array): Padded image i.e. image with a few additional pixels. \n",
    "    \"\"\"\n",
    "    # Such a string using triple quotes if used after defining a funtion gets associated with it and can be accessed using the command \"help(function_name)\"\n",
    "    \n",
    "    height,width = img.shape\n",
    "    if stride == 'block':\n",
    "        adj = 0\n",
    "        stride = wsize\n",
    "    else:\n",
    "        adj = 1\n",
    "\n",
    "    px = wsize - height % stride - adj\n",
    "    if px % 2 == 0:\n",
    "        px = int(px/2)\n",
    "        px = (px,px)\n",
    "    else:\n",
    "        px = int((px-1)/2)\n",
    "        px = (px,px+1)\n",
    "\n",
    "    py = wsize - width % stride - adj\n",
    "    if py % 2 == 0:\n",
    "        py = int(py/2)\n",
    "        py = (py,py)\n",
    "    else:\n",
    "        py = int((py-1)/2)\n",
    "        py = (py,py+1)\n",
    "\n",
    "    return np.pad(img,pad_width=(px,py),mode='symmetric')"
   ]
  },
  {
   "cell_type": "code",
   "execution_count": null,
   "metadata": {
    "scrolled": true
   },
   "outputs": [],
   "source": [
    "# define a variable \"X\" which is a numpy array where each element is a tile.\n",
    "\n",
    "X = util.view_as_windows(\n",
    "    pad(img_in,wsize=wsize,stride=stride), # add padding to the original image\n",
    "    window_shape=(wsize,wsize),            # define the tile size\n",
    "    step=stride)                           # define the stride length\n",
    "\n",
    "mask_dim = X.shape[:2]  # pick the first two values in the shape which correspond to the number of tiles.\n",
    "                        # This can be called the reduced image where each pixel represents one tile.\n",
    "\n",
    "X=X.reshape(-1,wsize**2) # reshape \"X\" to get an array of the tiles as vectors. The resulting array has \n",
    "                         # the dimensions 'number of tiles x number of pixels per tile'."
   ]
  },
  {
   "cell_type": "markdown",
   "metadata": {},
   "source": [
    "## <ins>Run the model</ins>\n",
    "\n",
    "We define the standard and mini-batch k-means models and fit them to our data."
   ]
  },
  {
   "cell_type": "code",
   "execution_count": null,
   "metadata": {},
   "outputs": [],
   "source": [
    "kmeans = KMeans(\n",
    "    n_clusters=n_clusters,\n",
    "    random_state=seed) # create a KMeans object which contains the method\n",
    "\n",
    "%time kmeans = kmeans.fit(X) # fit the model to our pre-processed image data"
   ]
  },
  {
   "cell_type": "code",
   "execution_count": null,
   "metadata": {},
   "outputs": [],
   "source": [
    "mb_kmeans = MiniBatchKMeans(\n",
    "    n_clusters=n_clusters,\n",
    "    random_state=seed) # create a MiniBatchKMeans object which contains the method\n",
    "\n",
    "%time mb_kmeans = mb_kmeans.fit(X) # fit the model to our pre-processed image data\n",
    "\n",
    "# Note the difference in time between KMeans and MiniBatchKMeans"
   ]
  },
  {
   "cell_type": "markdown",
   "metadata": {},
   "source": [
    "## <ins>Post-process the fitted data</ins>\n",
    "\n",
    "Each of the models return certain attributes that contain all the relevant data. See more: [KMeans](https://scikit-learn.org/stable/modules/generated/sklearn.cluster.KMeans.html), [MiniBatchKMeans](https://scikit-learn.org/stable/modules/generated/sklearn.cluster.MiniBatchKMeans.html)"
   ]
  },
  {
   "cell_type": "code",
   "execution_count": null,
   "metadata": {},
   "outputs": [],
   "source": [
    "mask = kmeans.labels_.reshape(*mask_dim) # reshape the \"labels_\" attribute to match the dimensions of the reduced image\n",
    "mask = Image.fromarray(mask) # convert the mask into an Image object\n",
    "\n",
    "mb_mask = mb_kmeans.labels_.reshape(*mask_dim) # reshape the \"labels_\" attribute to match the dimensions of the reduced image\n",
    "mb_mask = Image.fromarray(mb_mask) # convert the mask into an Image object"
   ]
  },
  {
   "cell_type": "code",
   "execution_count": null,
   "metadata": {},
   "outputs": [],
   "source": [
    "clusters = np.array(mask.resize(img_in.shape[::-1]))+1 # scale the reduced image to the size of the input image\n",
    "mb_clusters = np.array(mb_mask.resize(img_in.shape[::-1]))+1 # scale the reduced image to the size of the input image\n",
    "\n",
    "# modify \"mb_clusters\" to match the colour scheme in \"clusters\". This is only for visual comparison between the two. \n",
    "mod_mb_clusters = np.where(mb_clusters == 5, 2,0) + np.where(mb_clusters == 4, 4,0) + np.where(mb_clusters == 1, 1,0) + np.where(mb_clusters == 3, 5,0) + np.where(mb_clusters == 2, 3,0)"
   ]
  },
  {
   "cell_type": "markdown",
   "metadata": {},
   "source": [
    "## <ins>Plot the segmented images</ins>"
   ]
  },
  {
   "cell_type": "code",
   "execution_count": null,
   "metadata": {
    "scrolled": true
   },
   "outputs": [],
   "source": [
    "fig, ax = plt.subplots(nrows=1,ncols=3, figsize=(18,6)) # create a figure with sub-plots\n",
    "\n",
    "# show the images segemented by KMeans and MiniBatchKMeans respectively\n",
    "ax[0].imshow(clusters, cmap='gray');\n",
    "ax[1].imshow(mod_mb_clusters, cmap='gray');\n",
    "ax[2].imshow(img_in, cmap='gray')\n",
    "\n",
    "# label the images\n",
    "ax[0].set_title('KMeans')\n",
    "ax[1].set_title('MiniBatchKMeans')\n",
    "ax[2].set_title('Original')"
   ]
  },
  {
   "cell_type": "code",
   "execution_count": null,
   "metadata": {},
   "outputs": [],
   "source": [
    "# create a figure where each of the regions are plotted separately\n",
    "\n",
    "fig, ax = plt.subplots(nrows=1,ncols=n_clusters, figsize=(4*n_clusters,4))\n",
    "\n",
    "for ncl in range(1,n_clusters+1):\n",
    "    ax[ncl-1].imshow(np.where(clusters == ncl, 1, 0), cmap='gray')\n",
    "    ax[ncl-1].set_title('region %i' %ncl)"
   ]
  },
  {
   "cell_type": "markdown",
   "metadata": {},
   "source": [
    "## <ins>Varying the parameters</ins>\n",
    "\n",
    "Now, we vary the stride length, number of clusters and the window size and see how it affects our result. "
   ]
  },
  {
   "cell_type": "code",
   "execution_count": null,
   "metadata": {},
   "outputs": [],
   "source": [
    "# define a function that does MiniBatchKMeans and directly outputs an array of the cluster values\n",
    "\n",
    "def mbkmeans(n_clusters,seed,stride,wsize):\n",
    "    mb_kmeans = MiniBatchKMeans(\n",
    "        n_clusters=n_clusters,\n",
    "        random_state=seed)\n",
    "\n",
    "    mb_X = util.view_as_windows(\n",
    "        pad(img_in,wsize=wsize,stride=stride),\n",
    "        window_shape=(wsize,wsize),\n",
    "        step=stride)\n",
    "\n",
    "    mb_mask_dim = mb_X.shape[:2]\n",
    "    mb_X=mb_X.reshape(-1,wsize**2)\n",
    "\n",
    "    mb_kmeans = mb_kmeans.fit(mb_X)\n",
    "    \n",
    "    mb_mask = mb_kmeans.labels_.reshape(*mb_mask_dim)\n",
    "    mb_mask = Image.fromarray(mb_mask)\n",
    "    \n",
    "    mb_clusters = np.array(mb_mask.resize(img_in.shape[::-1]))+1\n",
    "    return mb_clusters "
   ]
  },
  {
   "cell_type": "markdown",
   "metadata": {},
   "source": [
    "### Vary the number of clusters: \n",
    "\n",
    "See the difference between having 2, 5 and 8 clusters. Note the differences in the time taken to execute the segmentation. "
   ]
  },
  {
   "cell_type": "code",
   "execution_count": null,
   "metadata": {},
   "outputs": [],
   "source": [
    "wsize = 30\n",
    "nclusters = [2, 5, 8]\n",
    "stride = 3\n",
    "seed = 197208\n",
    "\n",
    "fig, ax = plt.subplots(ncols=4, nrows=1, figsize=(20,5))\n",
    "for iter, ncl in enumerate(nclusters):\n",
    "    %time mb_cluster=mbkmeans(ncl,seed,stride,wsize)\n",
    "    ax[iter].imshow(mb_cluster, cmap='gray');\n",
    "    ax[iter].set_title('# clusters = %i' %ncl)\n",
    "ax[3].imshow(img_in, cmap='gray')\n",
    "ax[3].set_title('original')"
   ]
  },
  {
   "cell_type": "markdown",
   "metadata": {},
   "source": [
    "### Vary the stride:\n",
    "\n",
    "See the difference between having a stride length of 3, 10 and 25 pixels. Note the differences in the time taken to execute the segmentation. "
   ]
  },
  {
   "cell_type": "code",
   "execution_count": null,
   "metadata": {},
   "outputs": [],
   "source": [
    "wsize = 30\n",
    "nclusters = 3\n",
    "stride = [3,10,25]\n",
    "seed = 197208\n",
    "\n",
    "fig, ax = plt.subplots(ncols=4, nrows=1, figsize=(20,5))\n",
    "for iter, nst in enumerate(stride):\n",
    "    %time mb_cluster=mbkmeans(nclusters,seed,nst,wsize)\n",
    "    ax[iter].imshow(mb_cluster, cmap='gray');\n",
    "    ax[iter].set_title('stride = %i' %nst)\n",
    "ax[3].imshow(img_in, cmap='gray')\n",
    "ax[3].set_title('original')"
   ]
  },
  {
   "cell_type": "markdown",
   "metadata": {},
   "source": [
    "### Vary the window size (wsize):\n",
    "\n",
    "See the difference between having a window side length of 10, 30 and 50 pixels. Note the differences in the time taken to execute the segmentation. "
   ]
  },
  {
   "cell_type": "code",
   "execution_count": null,
   "metadata": {},
   "outputs": [],
   "source": [
    "wsize = [10,30,50]\n",
    "nclusters = 3\n",
    "stride = 3\n",
    "seed = 197208\n",
    "\n",
    "fig, ax = plt.subplots(ncols=4, nrows=1, figsize=(20,5))\n",
    "for iter, nws in enumerate(wsize):\n",
    "    %time mb_cluster=mbkmeans(nclusters,seed,stride,nws)\n",
    "    ax[iter].imshow(mb_cluster, cmap='gray');\n",
    "    ax[iter].set_title('wsize = %i' %nws)\n",
    "ax[3].imshow(img_in, cmap='gray')\n",
    "ax[3].set_title('original')"
   ]
  },
  {
   "cell_type": "code",
   "execution_count": null,
   "metadata": {},
   "outputs": [],
   "source": []
  }
 ],
 "metadata": {
  "kernelspec": {
   "display_name": "Python 3",
   "language": "python",
   "name": "python3"
  },
  "language_info": {
   "codemirror_mode": {
    "name": "ipython",
    "version": 3
   },
   "file_extension": ".py",
   "mimetype": "text/x-python",
   "name": "python",
   "nbconvert_exporter": "python",
   "pygments_lexer": "ipython3",
   "version": "3.7.7"
  }
 },
 "nbformat": 4,
 "nbformat_minor": 2
}
