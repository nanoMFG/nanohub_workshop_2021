{
 "cells": [
  {
   "cell_type": "markdown",
   "metadata": {},
   "source": [
    "# Machine Learning for SEM Image Segmentation Materials Science\n",
    "\n",
    "The tutorials here will give you an insight into the usage of machine learning to segment microscopy images. \n",
    "\n",
    " * **Get started** Click on the links below to begin each tutorial.\n",
    "\n",
    " * **Important** To exit individual tutorials and return to this page, use File -> Close and Halt. \"Terminate Session\" (top right) will kill your entire Jupyter session.\n",
    "\n",
    "\n",
    "### [K-Means Clustering:](bin/K-Means.ipynb)\n",
    "- \n",
    "\n",
    "\n",
    "### [Template Matching:](bin/Template_Matching.ipynb)\n",
    "- "
   ]
  },
  {
   "cell_type": "code",
   "execution_count": null,
   "metadata": {},
   "outputs": [],
   "source": []
  }
 ],
 "metadata": {
  "kernelspec": {
   "display_name": "Python 3",
   "language": "python",
   "name": "python3"
  },
  "language_info": {
   "codemirror_mode": {
    "name": "ipython",
    "version": 3
   },
   "file_extension": ".py",
   "mimetype": "text/x-python",
   "name": "python",
   "nbconvert_exporter": "python",
   "pygments_lexer": "ipython3",
   "version": "3.7.6"
  }
 },
 "nbformat": 4,
 "nbformat_minor": 2
}
